{
 "cells": [
  {
   "cell_type": "markdown",
   "metadata": {},
   "source": [
    "# TV Script Generation\n",
    "In this project, you'll generate your own [Simpsons](https://en.wikipedia.org/wiki/The_Simpsons) TV scripts using RNNs.  You'll be using part of the [Simpsons dataset](https://www.kaggle.com/wcukierski/the-simpsons-by-the-data) of scripts from 27 seasons.  The Neural Network you'll build will generate a new TV script for a scene at [Moe's Tavern](https://simpsonswiki.com/wiki/Moe's_Tavern).\n",
    "## Get the Data\n",
    "The data is already provided for you.  You'll be using a subset of the original dataset.  It consists of only the scenes in Moe's Tavern.  This doesn't include other versions of the tavern, like \"Moe's Cavern\", \"Flaming Moe's\", \"Uncle Moe's Family Feed-Bag\", etc.."
   ]
  },
  {
   "cell_type": "code",
   "execution_count": 32,
   "metadata": {
    "collapsed": true
   },
   "outputs": [],
   "source": [
    "\"\"\"\n",
    "DON'T MODIFY ANYTHING IN THIS CELL\n",
    "\"\"\"\n",
    "import helper\n",
    "\n",
    "data_dir = './data/simpsons/moes_tavern_lines.txt'\n",
    "text = helper.load_data(data_dir)\n",
    "# Ignore notice, since we don't use it for analysing the data\n",
    "text = text[81:]"
   ]
  },
  {
   "cell_type": "markdown",
   "metadata": {},
   "source": [
    "## Explore the Data\n",
    "Play around with `view_sentence_range` to view different parts of the data."
   ]
  },
  {
   "cell_type": "code",
   "execution_count": 33,
   "metadata": {},
   "outputs": [
    {
     "name": "stdout",
     "output_type": "stream",
     "text": [
      "Dataset Stats\n",
      "Roughly the number of unique words: 11492\n",
      "Number of scenes: 262\n",
      "Average number of sentences in each scene: 15.248091603053435\n",
      "Number of lines: 4257\n",
      "Average number of words in each line: 11.50434578341555\n",
      "\n",
      "The sentences 100 to 110:\n",
      "Barney_Gumble: Wow, it really works.\n",
      "HARV: (CHUCKLING) I'll be back.\n",
      "Homer_Simpson: Moe, I haven't seen the place this crowded since the government cracked down on you for accepting food stamps. Do you think my drink had something to do with it?\n",
      "Moe_Szyslak: Who can say? It's probably a combination of things.\n",
      "Patron_#1: (TO MOE) Another pitcher of those amazing \"Flaming Moe's\".\n",
      "Patron_#2: Boy, I hate this joint, but I love that drink.\n",
      "Collette: Barkeep, I couldn't help noticing your sign.\n",
      "Moe_Szyslak: The one that says, \"Bartenders Do It 'Til You Barf\"?\n",
      "Collette: No, above that store-bought drollery.\n",
      "Moe_Szyslak: Oh great! Why don't we fill out an application? (READING) I'll need your name, measurements and turn ons..\n"
     ]
    }
   ],
   "source": [
    "view_sentence_range = (100, 110)\n",
    "\n",
    "\"\"\"\n",
    "DON'T MODIFY ANYTHING IN THIS CELL\n",
    "\"\"\"\n",
    "import numpy as np\n",
    "\n",
    "print('Dataset Stats')\n",
    "print('Roughly the number of unique words: {}'.format(len({word: None for word in text.split()})))\n",
    "scenes = text.split('\\n\\n')\n",
    "print('Number of scenes: {}'.format(len(scenes)))\n",
    "sentence_count_scene = [scene.count('\\n') for scene in scenes]\n",
    "print('Average number of sentences in each scene: {}'.format(np.average(sentence_count_scene)))\n",
    "\n",
    "sentences = [sentence for scene in scenes for sentence in scene.split('\\n')]\n",
    "print('Number of lines: {}'.format(len(sentences)))\n",
    "word_count_sentence = [len(sentence.split()) for sentence in sentences]\n",
    "print('Average number of words in each line: {}'.format(np.average(word_count_sentence)))\n",
    "\n",
    "print()\n",
    "print('The sentences {} to {}:'.format(*view_sentence_range))\n",
    "print('\\n'.join(text.split('\\n')[view_sentence_range[0]:view_sentence_range[1]]))"
   ]
  },
  {
   "cell_type": "markdown",
   "metadata": {},
   "source": [
    "## Implement Preprocessing Functions\n",
    "The first thing to do to any dataset is preprocessing.  Implement the following preprocessing functions below:\n",
    "- Lookup Table\n",
    "- Tokenize Punctuation\n",
    "\n",
    "### Lookup Table\n",
    "To create a word embedding, you first need to transform the words to ids.  In this function, create two dictionaries:\n",
    "- Dictionary to go from the words to an id, we'll call `vocab_to_int`\n",
    "- Dictionary to go from the id to word, we'll call `int_to_vocab`\n",
    "\n",
    "Return these dictionaries in the following tuple `(vocab_to_int, int_to_vocab)`"
   ]
  },
  {
   "cell_type": "code",
   "execution_count": 34,
   "metadata": {},
   "outputs": [
    {
     "name": "stdout",
     "output_type": "stream",
     "text": [
      "Tests Passed\n"
     ]
    }
   ],
   "source": [
    "import numpy as np\n",
    "import problem_unittests as tests\n",
    "\n",
    "def create_lookup_tables(text):\n",
    "    \"\"\"\n",
    "    Create lookup tables for vocabulary\n",
    "    :param text: The text of tv scripts split into words\n",
    "    :return: A tuple of dicts (vocab_to_int, int_to_vocab)\n",
    "    \"\"\"\n",
    "    # TODO: Implement Function\n",
    "\n",
    "    text=set(text)\n",
    "    vocab_to_int = {word: i for i,word in enumerate(text,0)}\n",
    "    int_to_vocab = {v: k for k, v in vocab_to_int.items()}\n",
    "    return vocab_to_int, int_to_vocab\n",
    "\n",
    "\n",
    "\"\"\"\n",
    "DON'T MODIFY ANYTHING IN THIS CELL THAT IS BELOW THIS LINE\n",
    "\"\"\"\n",
    "tests.test_create_lookup_tables(create_lookup_tables)"
   ]
  },
  {
   "cell_type": "markdown",
   "metadata": {},
   "source": [
    "### Tokenize Punctuation\n",
    "We'll be splitting the script into a word array using spaces as delimiters.  However, punctuations like periods and exclamation marks make it hard for the neural network to distinguish between the word \"bye\" and \"bye!\".\n",
    "\n",
    "Implement the function `token_lookup` to return a dict that will be used to tokenize symbols like \"!\" into \"||Exclamation_Mark||\".  Create a dictionary for the following symbols where the symbol is the key and value is the token:\n",
    "- Period ( . )\n",
    "- Comma ( , )\n",
    "- Quotation Mark ( \" )\n",
    "- Semicolon ( ; )\n",
    "- Exclamation mark ( ! )\n",
    "- Question mark ( ? )\n",
    "- Left Parentheses ( ( )\n",
    "- Right Parentheses ( ) )\n",
    "- Dash ( -- )\n",
    "- Return ( \\n )\n",
    "\n",
    "This dictionary will be used to token the symbols and add the delimiter (space) around it.  This separates the symbols as it's own word, making it easier for the neural network to predict on the next word. Make sure you don't use a token that could be confused as a word. Instead of using the token \"dash\", try using something like \"||dash||\"."
   ]
  },
  {
   "cell_type": "code",
   "execution_count": 35,
   "metadata": {},
   "outputs": [
    {
     "name": "stdout",
     "output_type": "stream",
     "text": [
      "Tests Passed\n"
     ]
    }
   ],
   "source": [
    "def token_lookup():\n",
    "    \"\"\"\n",
    "    Generate a dict to turn punctuation into a token.\n",
    "    :return: Tokenize dictionary where the key is the punctuation and the value is the token\n",
    "    \"\"\"\n",
    "    # TODO: Implement Function\n",
    "    punctuation_dict = {'.': '||period||',\n",
    "                        ',': '||comma||',\n",
    "                        '\"': '||quotation_mark||',\n",
    "                        ';': '||semicolon||',\n",
    "                        '!': '||exclamation_mark||',\n",
    "                        '?': '||question_mark||',\n",
    "                        '(': '||left_parentheses||',\n",
    "                        ')': '||right_parentheses||',\n",
    "                        '--': '||dash||',\n",
    "                        '\\n': '||return||'\n",
    "    }\n",
    "    return punctuation_dict\n",
    "\n",
    "\"\"\"\n",
    "DON'T MODIFY ANYTHING IN THIS CELL THAT IS BELOW THIS LINE\n",
    "\"\"\"\n",
    "tests.test_tokenize(token_lookup)"
   ]
  },
  {
   "cell_type": "markdown",
   "metadata": {},
   "source": [
    "## Preprocess all the data and save it\n",
    "Running the code cell below will preprocess all the data and save it to file."
   ]
  },
  {
   "cell_type": "code",
   "execution_count": 36,
   "metadata": {
    "collapsed": true
   },
   "outputs": [],
   "source": [
    "\"\"\"\n",
    "DON'T MODIFY ANYTHING IN THIS CELL\n",
    "\"\"\"\n",
    "# Preprocess Training, Validation, and Testing Data\n",
    "helper.preprocess_and_save_data(data_dir, token_lookup, create_lookup_tables)"
   ]
  },
  {
   "cell_type": "markdown",
   "metadata": {},
   "source": [
    "# Check Point\n",
    "This is your first checkpoint. If you ever decide to come back to this notebook or have to restart the notebook, you can start from here. The preprocessed data has been saved to disk."
   ]
  },
  {
   "cell_type": "code",
   "execution_count": 37,
   "metadata": {
    "collapsed": true
   },
   "outputs": [],
   "source": [
    "\"\"\"\n",
    "DON'T MODIFY ANYTHING IN THIS CELL\n",
    "\"\"\"\n",
    "import helper\n",
    "import numpy as np\n",
    "import problem_unittests as tests\n",
    "\n",
    "int_text, vocab_to_int, int_to_vocab, token_dict = helper.load_preprocess()"
   ]
  },
  {
   "cell_type": "markdown",
   "metadata": {},
   "source": [
    "## Build the Neural Network\n",
    "You'll build the components necessary to build a RNN by implementing the following functions below:\n",
    "- get_inputs\n",
    "- get_init_cell\n",
    "- get_embed\n",
    "- build_rnn\n",
    "- build_nn\n",
    "- get_batches\n",
    "\n",
    "### Check the Version of TensorFlow and Access to GPU"
   ]
  },
  {
   "cell_type": "code",
   "execution_count": 38,
   "metadata": {},
   "outputs": [
    {
     "name": "stdout",
     "output_type": "stream",
     "text": [
      "TensorFlow Version: 1.1.0\n",
      "Default GPU Device: /gpu:0\n"
     ]
    }
   ],
   "source": [
    "\"\"\"\n",
    "DON'T MODIFY ANYTHING IN THIS CELL\n",
    "\"\"\"\n",
    "from distutils.version import LooseVersion\n",
    "import warnings\n",
    "import tensorflow as tf\n",
    "\n",
    "# Check TensorFlow Version\n",
    "assert LooseVersion(tf.__version__) >= LooseVersion('1.0'), 'Please use TensorFlow version 1.0 or newer'\n",
    "print('TensorFlow Version: {}'.format(tf.__version__))\n",
    "\n",
    "# Check for a GPU\n",
    "if not tf.test.gpu_device_name():\n",
    "    warnings.warn('No GPU found. Please use a GPU to train your neural network.')\n",
    "else:\n",
    "    print('Default GPU Device: {}'.format(tf.test.gpu_device_name()))"
   ]
  },
  {
   "cell_type": "markdown",
   "metadata": {},
   "source": [
    "### Input\n",
    "Implement the `get_inputs()` function to create TF Placeholders for the Neural Network.  It should create the following placeholders:\n",
    "- Input text placeholder named \"input\" using the [TF Placeholder](https://www.tensorflow.org/api_docs/python/tf/placeholder) `name` parameter.\n",
    "- Targets placeholder\n",
    "- Learning Rate placeholder\n",
    "\n",
    "Return the placeholders in the following tuple `(Input, Targets, LearningRate)`"
   ]
  },
  {
   "cell_type": "code",
   "execution_count": 39,
   "metadata": {},
   "outputs": [
    {
     "name": "stdout",
     "output_type": "stream",
     "text": [
      "Tests Passed\n"
     ]
    }
   ],
   "source": [
    "def get_inputs():\n",
    "    \"\"\"\n",
    "    Create TF Placeholders for input, targets, and learning rate.\n",
    "    :return: Tuple (input, targets, learning rate)\n",
    "    \"\"\"\n",
    "    # TODO: Implement Function\n",
    "    input_ = tf.placeholder(tf.int32, [None,None], name='input')\n",
    "    targets_ = tf.placeholder(tf.int32, [None, None], name='targets')\n",
    "    learning_rate_ = tf.placeholder(tf.float32, name='learning_rate')\n",
    "    return (input_, targets_, learning_rate_)\n",
    "\n",
    "\n",
    "\"\"\"\n",
    "DON'T MODIFY ANYTHING IN THIS CELL THAT IS BELOW THIS LINE\n",
    "\"\"\"\n",
    "tests.test_get_inputs(get_inputs)"
   ]
  },
  {
   "cell_type": "markdown",
   "metadata": {},
   "source": [
    "### Build RNN Cell and Initialize\n",
    "Stack one or more [`BasicLSTMCells`](https://www.tensorflow.org/api_docs/python/tf/contrib/rnn/BasicLSTMCell) in a [`MultiRNNCell`](https://www.tensorflow.org/api_docs/python/tf/contrib/rnn/MultiRNNCell).\n",
    "- The Rnn size should be set using `rnn_size`\n",
    "- Initalize Cell State using the MultiRNNCell's [`zero_state()`](https://www.tensorflow.org/api_docs/python/tf/contrib/rnn/MultiRNNCell#zero_state) function\n",
    "    - Apply the name \"initial_state\" to the initial state using [`tf.identity()`](https://www.tensorflow.org/api_docs/python/tf/identity)\n",
    "\n",
    "Return the cell and initial state in the following tuple `(Cell, InitialState)`"
   ]
  },
  {
   "cell_type": "code",
   "execution_count": 40,
   "metadata": {},
   "outputs": [
    {
     "name": "stdout",
     "output_type": "stream",
     "text": [
      "Tests Passed\n"
     ]
    }
   ],
   "source": [
    "def get_init_cell(batch_size, rnn_size):\n",
    "    \"\"\"\n",
    "    Create an RNN Cell and initialize it.\n",
    "    :param batch_size: Size of batches\n",
    "    :param rnn_size: Size of RNNs\n",
    "    :return: Tuple (cell, initialize state)\n",
    "    \"\"\"\n",
    "    # TODO: Implement Function\n",
    "    lstm = tf.contrib.rnn.BasicLSTMCell(rnn_size)\n",
    "    cell = tf.contrib.rnn.MultiRNNCell([lstm]*1)\n",
    "    initial_state = tf.identity(cell.zero_state(batch_size, tf.float32), name='initial_state')\n",
    "    return (cell, initial_state)\n",
    "\n",
    "\n",
    "\"\"\"\n",
    "DON'T MODIFY ANYTHING IN THIS CELL THAT IS BELOW THIS LINE\n",
    "\"\"\"\n",
    "tests.test_get_init_cell(get_init_cell)"
   ]
  },
  {
   "cell_type": "markdown",
   "metadata": {},
   "source": [
    "### Word Embedding\n",
    "Apply embedding to `input_data` using TensorFlow.  Return the embedded sequence."
   ]
  },
  {
   "cell_type": "code",
   "execution_count": 41,
   "metadata": {},
   "outputs": [
    {
     "name": "stdout",
     "output_type": "stream",
     "text": [
      "Tests Passed\n"
     ]
    }
   ],
   "source": [
    "def get_embed(input_data, vocab_size, embed_dim):\n",
    "    \"\"\"\n",
    "    Create embedding for <input_data>.\n",
    "    :param input_data: TF placeholder for text input.\n",
    "    :param vocab_size: Number of words in vocabulary.\n",
    "    :param embed_dim: Number of embedding dimensions\n",
    "    :return: Embedded input.\n",
    "    \"\"\"\n",
    "    # TODO: Implement Function\n",
    "    embedding = tf.Variable(tf.random_uniform((vocab_size, embed_dim), -1, 1))\n",
    "    embed = tf.nn.embedding_lookup(embedding, input_data)\n",
    "    return embed\n",
    "\n",
    "\n",
    "\"\"\"\n",
    "DON'T MODIFY ANYTHING IN THIS CELL THAT IS BELOW THIS LINE\n",
    "\"\"\"\n",
    "tests.test_get_embed(get_embed)"
   ]
  },
  {
   "cell_type": "markdown",
   "metadata": {},
   "source": [
    "### Build RNN\n",
    "You created a RNN Cell in the `get_init_cell()` function.  Time to use the cell to create a RNN.\n",
    "- Build the RNN using the [`tf.nn.dynamic_rnn()`](https://www.tensorflow.org/api_docs/python/tf/nn/dynamic_rnn)\n",
    " - Apply the name \"final_state\" to the final state using [`tf.identity()`](https://www.tensorflow.org/api_docs/python/tf/identity)\n",
    "\n",
    "Return the outputs and final_state state in the following tuple `(Outputs, FinalState)` "
   ]
  },
  {
   "cell_type": "code",
   "execution_count": 42,
   "metadata": {},
   "outputs": [
    {
     "name": "stdout",
     "output_type": "stream",
     "text": [
      "Tests Passed\n"
     ]
    }
   ],
   "source": [
    "def build_rnn(cell, inputs):\n",
    "    \"\"\"\n",
    "    Create a RNN using a RNN Cell\n",
    "    :param cell: RNN Cell\n",
    "    :param inputs: Input text data\n",
    "    :return: Tuple (Outputs, Final State)\n",
    "    \"\"\"\n",
    "    #TODO: Implement Function\n",
    "    outputs, final_state = tf.nn.dynamic_rnn(cell, inputs, dtype=tf.float32)\n",
    "    final_state = tf.identity(final_state, name='final_state')\n",
    "    return (outputs, final_state)\n",
    "\n",
    "\n",
    "\n",
    "\"\"\"\n",
    "DON'T MODIFY ANYTHING IN THIS CELL THAT IS BELOW THIS LINE\n",
    "\"\"\"\n",
    "tests.test_build_rnn(build_rnn)"
   ]
  },
  {
   "cell_type": "markdown",
   "metadata": {},
   "source": [
    "### Build the Neural Network\n",
    "Apply the functions you implemented above to:\n",
    "- Apply embedding to `input_data` using your `get_embed(input_data, vocab_size, embed_dim)` function.\n",
    "- Build RNN using `cell` and your `build_rnn(cell, inputs)` function.\n",
    "- Apply a fully connected layer with a linear activation and `vocab_size` as the number of outputs.\n",
    "\n",
    "Return the logits and final state in the following tuple (Logits, FinalState) "
   ]
  },
  {
   "cell_type": "code",
   "execution_count": 43,
   "metadata": {},
   "outputs": [
    {
     "name": "stdout",
     "output_type": "stream",
     "text": [
      "Tests Passed\n"
     ]
    }
   ],
   "source": [
    "def build_nn(cell, rnn_size, input_data, vocab_size, embed_dim):\n",
    "    \"\"\"\n",
    "    Build part of the neural network\n",
    "    :param cell: RNN cell\n",
    "    :param rnn_size: Size of rnns\n",
    "    :param input_data: Input data\n",
    "    :param vocab_size: Vocabulary size\n",
    "    :param embed_dim: Number of embedding dimensions\n",
    "    :return: Tuple (Logits, FinalState)\n",
    "    \"\"\"\n",
    "    # TODO: Implement Function\n",
    "    embeds = get_embed(input_data, vocab_size, embed_dim)\n",
    "    outputs, final_state = build_rnn(cell, embeds)\n",
    "    logits = tf.contrib.layers.fully_connected(outputs, vocab_size, activation_fn = None)\n",
    "    return (logits, final_state)\n",
    "\n",
    "\n",
    "\"\"\"\n",
    "DON'T MODIFY ANYTHING IN THIS CELL THAT IS BELOW THIS LINE\n",
    "\"\"\"\n",
    "tests.test_build_nn(build_nn)"
   ]
  },
  {
   "cell_type": "markdown",
   "metadata": {},
   "source": [
    "### Batches\n",
    "Implement `get_batches` to create batches of input and targets using `int_text`.  The batches should be a Numpy array with the shape `(number of batches, 2, batch size, sequence length)`. Each batch contains two elements:\n",
    "- The first element is a single batch of **input** with the shape `[batch size, sequence length]`\n",
    "- The second element is a single batch of **targets** with the shape `[batch size, sequence length]`\n",
    "\n",
    "If you can't fill the last batch with enough data, drop the last batch.\n",
    "\n",
    "For exmple, `get_batches([1, 2, 3, 4, 5, 6, 7, 8, 9, 10, 11, 12, 13, 14, 15, 16, 17, 18, 19, 20], 3, 2)` would return a Numpy array of the following:\n",
    "```\n",
    "[\n",
    "  # First Batch\n",
    "  [\n",
    "    # Batch of Input\n",
    "    [[ 1  2], [ 7  8], [13 14]]\n",
    "    # Batch of targets\n",
    "    [[ 2  3], [ 8  9], [14 15]]\n",
    "  ]\n",
    "\n",
    "  # Second Batch\n",
    "  [\n",
    "    # Batch of Input\n",
    "    [[ 3  4], [ 9 10], [15 16]]\n",
    "    # Batch of targets\n",
    "    [[ 4  5], [10 11], [16 17]]\n",
    "  ]\n",
    "\n",
    "  # Third Batch\n",
    "  [\n",
    "    # Batch of Input\n",
    "    [[ 5  6], [11 12], [17 18]]\n",
    "    # Batch of targets\n",
    "    [[ 6  7], [12 13], [18  1]]\n",
    "  ]\n",
    "]\n",
    "```\n",
    "\n",
    "Notice that the last target value in the last batch is the first input value of the first batch. In this case, `1`. This is a common technique used when creating sequence batches, although it is rather unintuitive."
   ]
  },
  {
   "cell_type": "code",
   "execution_count": 44,
   "metadata": {},
   "outputs": [
    {
     "name": "stdout",
     "output_type": "stream",
     "text": [
      "Tests Passed\n"
     ]
    }
   ],
   "source": [
    "def get_batches(int_text, batch_size, seq_length):\n",
    "    \"\"\"\n",
    "    Return batches of input and target\n",
    "    :param int_text: Text with the words replaced by their ids\n",
    "    :param batch_size: The size of batch\n",
    "    :param seq_length: The length of sequence\n",
    "    :return: Batches as a Numpy array\n",
    "    \"\"\"\n",
    "    # TODO: Implement Function\n",
    "    n_batches = len(int_text)//(batch_size*seq_length) #number of possible batches\n",
    "    \n",
    "    x = np.array(int_text[: n_batches * batch_size * seq_length])\n",
    "    y = np.array(int_text[1: n_batches * batch_size * seq_length + 1])\n",
    "    y[-1] = x[0]\n",
    "\n",
    "    x_batches = np.split(x.reshape(batch_size, -1), n_batches, 1)\n",
    "    y_batches = np.split(y.reshape(batch_size, -1), n_batches, 1)\n",
    "\n",
    "    return np.array(list(zip(x_batches, y_batches)))\n",
    "\n",
    "\n",
    "\"\"\"\n",
    "DON'T MODIFY ANYTHING IN THIS CELL THAT IS BELOW THIS LINE\n",
    "\"\"\"\n",
    "tests.test_get_batches(get_batches)"
   ]
  },
  {
   "cell_type": "markdown",
   "metadata": {},
   "source": [
    "## Neural Network Training\n",
    "### Hyperparameters\n",
    "Tune the following parameters:\n",
    "\n",
    "- Set `num_epochs` to the number of epochs.\n",
    "- Set `batch_size` to the batch size.\n",
    "- Set `rnn_size` to the size of the RNNs.\n",
    "- Set `embed_dim` to the size of the embedding.\n",
    "- Set `seq_length` to the length of sequence.\n",
    "- Set `learning_rate` to the learning rate.\n",
    "- Set `show_every_n_batches` to the number of batches the neural network should print progress."
   ]
  },
  {
   "cell_type": "code",
   "execution_count": 51,
   "metadata": {
    "collapsed": true
   },
   "outputs": [],
   "source": [
    "# Number of Epochs\n",
    "num_epochs = 100\n",
    "# Batch Size\n",
    "batch_size = 64\n",
    "# RNN Size\n",
    "rnn_size = 256\n",
    "# Embedding Dimension Size\n",
    "embed_dim = 150\n",
    "# Sequence Length\n",
    "seq_length = 50\n",
    "# Learning Rate\n",
    "learning_rate = 0.009\n",
    "# Show stats for every n number of batches\n",
    "show_every_n_batches = 5\n",
    "\n",
    "\"\"\"\n",
    "DON'T MODIFY ANYTHING IN THIS CELL THAT IS BELOW THIS LINE\n",
    "\"\"\"\n",
    "save_dir = './save'"
   ]
  },
  {
   "cell_type": "markdown",
   "metadata": {},
   "source": [
    "### Build the Graph\n",
    "Build the graph using the neural network you implemented."
   ]
  },
  {
   "cell_type": "code",
   "execution_count": 52,
   "metadata": {
    "collapsed": true
   },
   "outputs": [],
   "source": [
    "\"\"\"\n",
    "DON'T MODIFY ANYTHING IN THIS CELL\n",
    "\"\"\"\n",
    "from tensorflow.contrib import seq2seq\n",
    "\n",
    "train_graph = tf.Graph()\n",
    "with train_graph.as_default():\n",
    "    vocab_size = len(int_to_vocab)\n",
    "    input_text, targets, lr = get_inputs()\n",
    "    input_data_shape = tf.shape(input_text)\n",
    "    cell, initial_state = get_init_cell(input_data_shape[0], rnn_size)\n",
    "    logits, final_state = build_nn(cell, rnn_size, input_text, vocab_size, embed_dim)\n",
    "\n",
    "    # Probabilities for generating words\n",
    "    probs = tf.nn.softmax(logits, name='probs')\n",
    "\n",
    "    # Loss function\n",
    "    cost = seq2seq.sequence_loss(\n",
    "        logits,\n",
    "        targets,\n",
    "        tf.ones([input_data_shape[0], input_data_shape[1]]))\n",
    "\n",
    "    # Optimizer\n",
    "    optimizer = tf.train.AdamOptimizer(lr)\n",
    "\n",
    "    # Gradient Clipping\n",
    "    gradients = optimizer.compute_gradients(cost)\n",
    "    capped_gradients = [(tf.clip_by_value(grad, -1., 1.), var) for grad, var in gradients if grad is not None]\n",
    "    train_op = optimizer.apply_gradients(capped_gradients)"
   ]
  },
  {
   "cell_type": "markdown",
   "metadata": {},
   "source": [
    "## Train\n",
    "Train the neural network on the preprocessed data.  If you have a hard time getting a good loss, check the [forums](https://discussions.udacity.com/) to see if anyone is having the same problem."
   ]
  },
  {
   "cell_type": "code",
   "execution_count": 53,
   "metadata": {},
   "outputs": [
    {
     "name": "stdout",
     "output_type": "stream",
     "text": [
      "Epoch   0 Batch    0/21   train_loss = 8.823\n",
      "Epoch   0 Batch    5/21   train_loss = 6.511\n",
      "Epoch   0 Batch   10/21   train_loss = 6.455\n",
      "Epoch   0 Batch   15/21   train_loss = 6.092\n",
      "Epoch   0 Batch   20/21   train_loss = 5.910\n",
      "Epoch   1 Batch    4/21   train_loss = 5.477\n",
      "Epoch   1 Batch    9/21   train_loss = 5.417\n",
      "Epoch   1 Batch   14/21   train_loss = 5.205\n",
      "Epoch   1 Batch   19/21   train_loss = 5.105\n",
      "Epoch   2 Batch    3/21   train_loss = 5.001\n",
      "Epoch   2 Batch    8/21   train_loss = 4.807\n",
      "Epoch   2 Batch   13/21   train_loss = 4.779\n",
      "Epoch   2 Batch   18/21   train_loss = 4.813\n",
      "Epoch   3 Batch    2/21   train_loss = 4.680\n",
      "Epoch   3 Batch    7/21   train_loss = 4.497\n",
      "Epoch   3 Batch   12/21   train_loss = 4.611\n",
      "Epoch   3 Batch   17/21   train_loss = 4.439\n",
      "Epoch   4 Batch    1/21   train_loss = 4.346\n",
      "Epoch   4 Batch    6/21   train_loss = 4.386\n",
      "Epoch   4 Batch   11/21   train_loss = 4.259\n",
      "Epoch   4 Batch   16/21   train_loss = 4.148\n",
      "Epoch   5 Batch    0/21   train_loss = 4.108\n",
      "Epoch   5 Batch    5/21   train_loss = 4.026\n",
      "Epoch   5 Batch   10/21   train_loss = 3.990\n",
      "Epoch   5 Batch   15/21   train_loss = 3.914\n",
      "Epoch   5 Batch   20/21   train_loss = 3.868\n",
      "Epoch   6 Batch    4/21   train_loss = 3.797\n",
      "Epoch   6 Batch    9/21   train_loss = 3.719\n",
      "Epoch   6 Batch   14/21   train_loss = 3.661\n",
      "Epoch   6 Batch   19/21   train_loss = 3.632\n",
      "Epoch   7 Batch    3/21   train_loss = 3.575\n",
      "Epoch   7 Batch    8/21   train_loss = 3.505\n",
      "Epoch   7 Batch   13/21   train_loss = 3.421\n",
      "Epoch   7 Batch   18/21   train_loss = 3.394\n",
      "Epoch   8 Batch    2/21   train_loss = 3.409\n",
      "Epoch   8 Batch    7/21   train_loss = 3.287\n",
      "Epoch   8 Batch   12/21   train_loss = 3.315\n",
      "Epoch   8 Batch   17/21   train_loss = 3.251\n",
      "Epoch   9 Batch    1/21   train_loss = 3.225\n",
      "Epoch   9 Batch    6/21   train_loss = 3.175\n",
      "Epoch   9 Batch   11/21   train_loss = 3.126\n",
      "Epoch   9 Batch   16/21   train_loss = 3.019\n",
      "Epoch  10 Batch    0/21   train_loss = 3.062\n",
      "Epoch  10 Batch    5/21   train_loss = 2.983\n",
      "Epoch  10 Batch   10/21   train_loss = 2.946\n",
      "Epoch  10 Batch   15/21   train_loss = 2.844\n",
      "Epoch  10 Batch   20/21   train_loss = 2.838\n",
      "Epoch  11 Batch    4/21   train_loss = 2.860\n",
      "Epoch  11 Batch    9/21   train_loss = 2.813\n",
      "Epoch  11 Batch   14/21   train_loss = 2.751\n",
      "Epoch  11 Batch   19/21   train_loss = 2.673\n",
      "Epoch  12 Batch    3/21   train_loss = 2.637\n",
      "Epoch  12 Batch    8/21   train_loss = 2.668\n",
      "Epoch  12 Batch   13/21   train_loss = 2.613\n",
      "Epoch  12 Batch   18/21   train_loss = 2.484\n",
      "Epoch  13 Batch    2/21   train_loss = 2.588\n",
      "Epoch  13 Batch    7/21   train_loss = 2.519\n",
      "Epoch  13 Batch   12/21   train_loss = 2.493\n",
      "Epoch  13 Batch   17/21   train_loss = 2.458\n",
      "Epoch  14 Batch    1/21   train_loss = 2.468\n",
      "Epoch  14 Batch    6/21   train_loss = 2.431\n",
      "Epoch  14 Batch   11/21   train_loss = 2.419\n",
      "Epoch  14 Batch   16/21   train_loss = 2.318\n",
      "Epoch  15 Batch    0/21   train_loss = 2.256\n",
      "Epoch  15 Batch    5/21   train_loss = 2.297\n",
      "Epoch  15 Batch   10/21   train_loss = 2.272\n",
      "Epoch  15 Batch   15/21   train_loss = 2.209\n",
      "Epoch  15 Batch   20/21   train_loss = 2.174\n",
      "Epoch  16 Batch    4/21   train_loss = 2.219\n",
      "Epoch  16 Batch    9/21   train_loss = 2.179\n",
      "Epoch  16 Batch   14/21   train_loss = 2.192\n",
      "Epoch  16 Batch   19/21   train_loss = 2.082\n",
      "Epoch  17 Batch    3/21   train_loss = 2.031\n",
      "Epoch  17 Batch    8/21   train_loss = 2.114\n",
      "Epoch  17 Batch   13/21   train_loss = 2.099\n",
      "Epoch  17 Batch   18/21   train_loss = 1.955\n",
      "Epoch  18 Batch    2/21   train_loss = 1.994\n",
      "Epoch  18 Batch    7/21   train_loss = 2.001\n",
      "Epoch  18 Batch   12/21   train_loss = 1.928\n",
      "Epoch  18 Batch   17/21   train_loss = 1.991\n",
      "Epoch  19 Batch    1/21   train_loss = 1.922\n",
      "Epoch  19 Batch    6/21   train_loss = 1.868\n",
      "Epoch  19 Batch   11/21   train_loss = 1.912\n",
      "Epoch  19 Batch   16/21   train_loss = 1.867\n",
      "Epoch  20 Batch    0/21   train_loss = 1.810\n",
      "Epoch  20 Batch    5/21   train_loss = 1.791\n",
      "Epoch  20 Batch   10/21   train_loss = 1.830\n",
      "Epoch  20 Batch   15/21   train_loss = 1.730\n",
      "Epoch  20 Batch   20/21   train_loss = 1.773\n",
      "Epoch  21 Batch    4/21   train_loss = 1.747\n",
      "Epoch  21 Batch    9/21   train_loss = 1.746\n",
      "Epoch  21 Batch   14/21   train_loss = 1.776\n",
      "Epoch  21 Batch   19/21   train_loss = 1.745\n",
      "Epoch  22 Batch    3/21   train_loss = 1.647\n",
      "Epoch  22 Batch    8/21   train_loss = 1.673\n",
      "Epoch  22 Batch   13/21   train_loss = 1.782\n",
      "Epoch  22 Batch   18/21   train_loss = 1.600\n",
      "Epoch  23 Batch    2/21   train_loss = 1.686\n",
      "Epoch  23 Batch    7/21   train_loss = 1.611\n",
      "Epoch  23 Batch   12/21   train_loss = 1.588\n",
      "Epoch  23 Batch   17/21   train_loss = 1.640\n",
      "Epoch  24 Batch    1/21   train_loss = 1.686\n",
      "Epoch  24 Batch    6/21   train_loss = 1.542\n",
      "Epoch  24 Batch   11/21   train_loss = 1.569\n",
      "Epoch  24 Batch   16/21   train_loss = 1.578\n",
      "Epoch  25 Batch    0/21   train_loss = 1.509\n",
      "Epoch  25 Batch    5/21   train_loss = 1.555\n",
      "Epoch  25 Batch   10/21   train_loss = 1.455\n",
      "Epoch  25 Batch   15/21   train_loss = 1.506\n",
      "Epoch  25 Batch   20/21   train_loss = 1.442\n",
      "Epoch  26 Batch    4/21   train_loss = 1.520\n",
      "Epoch  26 Batch    9/21   train_loss = 1.421\n",
      "Epoch  26 Batch   14/21   train_loss = 1.422\n",
      "Epoch  26 Batch   19/21   train_loss = 1.499\n",
      "Epoch  27 Batch    3/21   train_loss = 1.335\n",
      "Epoch  27 Batch    8/21   train_loss = 1.413\n",
      "Epoch  27 Batch   13/21   train_loss = 1.369\n",
      "Epoch  27 Batch   18/21   train_loss = 1.288\n",
      "Epoch  28 Batch    2/21   train_loss = 1.294\n",
      "Epoch  28 Batch    7/21   train_loss = 1.259\n",
      "Epoch  28 Batch   12/21   train_loss = 1.191\n",
      "Epoch  28 Batch   17/21   train_loss = 1.201\n",
      "Epoch  29 Batch    1/21   train_loss = 1.261\n",
      "Epoch  29 Batch    6/21   train_loss = 1.134\n",
      "Epoch  29 Batch   11/21   train_loss = 1.132\n",
      "Epoch  29 Batch   16/21   train_loss = 1.114\n",
      "Epoch  30 Batch    0/21   train_loss = 1.087\n",
      "Epoch  30 Batch    5/21   train_loss = 1.122\n",
      "Epoch  30 Batch   10/21   train_loss = 1.046\n",
      "Epoch  30 Batch   15/21   train_loss = 1.003\n",
      "Epoch  30 Batch   20/21   train_loss = 1.018\n",
      "Epoch  31 Batch    4/21   train_loss = 1.079\n",
      "Epoch  31 Batch    9/21   train_loss = 0.987\n",
      "Epoch  31 Batch   14/21   train_loss = 1.025\n",
      "Epoch  31 Batch   19/21   train_loss = 1.020\n",
      "Epoch  32 Batch    3/21   train_loss = 0.949\n",
      "Epoch  32 Batch    8/21   train_loss = 0.993\n",
      "Epoch  32 Batch   13/21   train_loss = 1.017\n",
      "Epoch  32 Batch   18/21   train_loss = 0.919\n",
      "Epoch  33 Batch    2/21   train_loss = 0.915\n",
      "Epoch  33 Batch    7/21   train_loss = 0.932\n",
      "Epoch  33 Batch   12/21   train_loss = 0.861\n",
      "Epoch  33 Batch   17/21   train_loss = 0.923\n",
      "Epoch  34 Batch    1/21   train_loss = 0.940\n",
      "Epoch  34 Batch    6/21   train_loss = 0.874\n",
      "Epoch  34 Batch   11/21   train_loss = 0.831\n",
      "Epoch  34 Batch   16/21   train_loss = 0.842\n",
      "Epoch  35 Batch    0/21   train_loss = 0.843\n",
      "Epoch  35 Batch    5/21   train_loss = 0.847\n",
      "Epoch  35 Batch   10/21   train_loss = 0.826\n",
      "Epoch  35 Batch   15/21   train_loss = 0.760\n",
      "Epoch  35 Batch   20/21   train_loss = 0.797\n",
      "Epoch  36 Batch    4/21   train_loss = 0.836\n",
      "Epoch  36 Batch    9/21   train_loss = 0.766\n",
      "Epoch  36 Batch   14/21   train_loss = 0.778\n",
      "Epoch  36 Batch   19/21   train_loss = 0.781\n",
      "Epoch  37 Batch    3/21   train_loss = 0.731\n",
      "Epoch  37 Batch    8/21   train_loss = 0.790\n",
      "Epoch  37 Batch   13/21   train_loss = 0.771\n",
      "Epoch  37 Batch   18/21   train_loss = 0.699\n",
      "Epoch  38 Batch    2/21   train_loss = 0.697\n",
      "Epoch  38 Batch    7/21   train_loss = 0.720\n",
      "Epoch  38 Batch   12/21   train_loss = 0.689\n",
      "Epoch  38 Batch   17/21   train_loss = 0.684\n",
      "Epoch  39 Batch    1/21   train_loss = 0.729\n",
      "Epoch  39 Batch    6/21   train_loss = 0.668\n",
      "Epoch  39 Batch   11/21   train_loss = 0.647\n",
      "Epoch  39 Batch   16/21   train_loss = 0.664\n",
      "Epoch  40 Batch    0/21   train_loss = 0.646\n",
      "Epoch  40 Batch    5/21   train_loss = 0.668\n",
      "Epoch  40 Batch   10/21   train_loss = 0.640\n",
      "Epoch  40 Batch   15/21   train_loss = 0.595\n",
      "Epoch  40 Batch   20/21   train_loss = 0.636\n",
      "Epoch  41 Batch    4/21   train_loss = 0.662\n",
      "Epoch  41 Batch    9/21   train_loss = 0.602\n",
      "Epoch  41 Batch   14/21   train_loss = 0.607\n",
      "Epoch  41 Batch   19/21   train_loss = 0.625\n",
      "Epoch  42 Batch    3/21   train_loss = 0.594\n",
      "Epoch  42 Batch    8/21   train_loss = 0.623\n",
      "Epoch  42 Batch   13/21   train_loss = 0.636\n",
      "Epoch  42 Batch   18/21   train_loss = 0.560\n",
      "Epoch  43 Batch    2/21   train_loss = 0.559\n",
      "Epoch  43 Batch    7/21   train_loss = 0.566\n"
     ]
    },
    {
     "name": "stdout",
     "output_type": "stream",
     "text": [
      "Epoch  43 Batch   12/21   train_loss = 0.563\n",
      "Epoch  43 Batch   17/21   train_loss = 0.563\n",
      "Epoch  44 Batch    1/21   train_loss = 0.607\n",
      "Epoch  44 Batch    6/21   train_loss = 0.528\n",
      "Epoch  44 Batch   11/21   train_loss = 0.504\n",
      "Epoch  44 Batch   16/21   train_loss = 0.550\n",
      "Epoch  45 Batch    0/21   train_loss = 0.519\n",
      "Epoch  45 Batch    5/21   train_loss = 0.556\n",
      "Epoch  45 Batch   10/21   train_loss = 0.529\n",
      "Epoch  45 Batch   15/21   train_loss = 0.486\n",
      "Epoch  45 Batch   20/21   train_loss = 0.508\n",
      "Epoch  46 Batch    4/21   train_loss = 0.535\n",
      "Epoch  46 Batch    9/21   train_loss = 0.496\n",
      "Epoch  46 Batch   14/21   train_loss = 0.533\n",
      "Epoch  46 Batch   19/21   train_loss = 0.510\n",
      "Epoch  47 Batch    3/21   train_loss = 0.469\n",
      "Epoch  47 Batch    8/21   train_loss = 0.499\n",
      "Epoch  47 Batch   13/21   train_loss = 0.535\n",
      "Epoch  47 Batch   18/21   train_loss = 0.482\n",
      "Epoch  48 Batch    2/21   train_loss = 0.452\n",
      "Epoch  48 Batch    7/21   train_loss = 0.483\n",
      "Epoch  48 Batch   12/21   train_loss = 0.449\n",
      "Epoch  48 Batch   17/21   train_loss = 0.500\n",
      "Epoch  49 Batch    1/21   train_loss = 0.494\n",
      "Epoch  49 Batch    6/21   train_loss = 0.483\n",
      "Epoch  49 Batch   11/21   train_loss = 0.442\n",
      "Epoch  49 Batch   16/21   train_loss = 0.498\n",
      "Epoch  50 Batch    0/21   train_loss = 0.480\n",
      "Epoch  50 Batch    5/21   train_loss = 0.479\n",
      "Epoch  50 Batch   10/21   train_loss = 0.471\n",
      "Epoch  50 Batch   15/21   train_loss = 0.434\n",
      "Epoch  50 Batch   20/21   train_loss = 0.493\n",
      "Epoch  51 Batch    4/21   train_loss = 0.452\n",
      "Epoch  51 Batch    9/21   train_loss = 0.464\n",
      "Epoch  51 Batch   14/21   train_loss = 0.441\n",
      "Epoch  51 Batch   19/21   train_loss = 0.494\n",
      "Epoch  52 Batch    3/21   train_loss = 0.436\n",
      "Epoch  52 Batch    8/21   train_loss = 0.432\n",
      "Epoch  52 Batch   13/21   train_loss = 0.504\n",
      "Epoch  52 Batch   18/21   train_loss = 0.415\n",
      "Epoch  53 Batch    2/21   train_loss = 0.417\n",
      "Epoch  53 Batch    7/21   train_loss = 0.403\n",
      "Epoch  53 Batch   12/21   train_loss = 0.410\n",
      "Epoch  53 Batch   17/21   train_loss = 0.413\n",
      "Epoch  54 Batch    1/21   train_loss = 0.419\n",
      "Epoch  54 Batch    6/21   train_loss = 0.389\n",
      "Epoch  54 Batch   11/21   train_loss = 0.345\n",
      "Epoch  54 Batch   16/21   train_loss = 0.396\n",
      "Epoch  55 Batch    0/21   train_loss = 0.380\n",
      "Epoch  55 Batch    5/21   train_loss = 0.384\n",
      "Epoch  55 Batch   10/21   train_loss = 0.358\n",
      "Epoch  55 Batch   15/21   train_loss = 0.323\n",
      "Epoch  55 Batch   20/21   train_loss = 0.344\n",
      "Epoch  56 Batch    4/21   train_loss = 0.348\n",
      "Epoch  56 Batch    9/21   train_loss = 0.319\n",
      "Epoch  56 Batch   14/21   train_loss = 0.326\n",
      "Epoch  56 Batch   19/21   train_loss = 0.329\n",
      "Epoch  57 Batch    3/21   train_loss = 0.318\n",
      "Epoch  57 Batch    8/21   train_loss = 0.298\n",
      "Epoch  57 Batch   13/21   train_loss = 0.327\n",
      "Epoch  57 Batch   18/21   train_loss = 0.278\n",
      "Epoch  58 Batch    2/21   train_loss = 0.264\n",
      "Epoch  58 Batch    7/21   train_loss = 0.279\n",
      "Epoch  58 Batch   12/21   train_loss = 0.269\n",
      "Epoch  58 Batch   17/21   train_loss = 0.271\n",
      "Epoch  59 Batch    1/21   train_loss = 0.285\n",
      "Epoch  59 Batch    6/21   train_loss = 0.249\n",
      "Epoch  59 Batch   11/21   train_loss = 0.234\n",
      "Epoch  59 Batch   16/21   train_loss = 0.263\n",
      "Epoch  60 Batch    0/21   train_loss = 0.257\n",
      "Epoch  60 Batch    5/21   train_loss = 0.256\n",
      "Epoch  60 Batch   10/21   train_loss = 0.229\n",
      "Epoch  60 Batch   15/21   train_loss = 0.221\n",
      "Epoch  60 Batch   20/21   train_loss = 0.228\n",
      "Epoch  61 Batch    4/21   train_loss = 0.238\n",
      "Epoch  61 Batch    9/21   train_loss = 0.223\n",
      "Epoch  61 Batch   14/21   train_loss = 0.219\n",
      "Epoch  61 Batch   19/21   train_loss = 0.224\n",
      "Epoch  62 Batch    3/21   train_loss = 0.221\n",
      "Epoch  62 Batch    8/21   train_loss = 0.217\n",
      "Epoch  62 Batch   13/21   train_loss = 0.215\n",
      "Epoch  62 Batch   18/21   train_loss = 0.193\n",
      "Epoch  63 Batch    2/21   train_loss = 0.188\n",
      "Epoch  63 Batch    7/21   train_loss = 0.206\n",
      "Epoch  63 Batch   12/21   train_loss = 0.209\n",
      "Epoch  63 Batch   17/21   train_loss = 0.202\n",
      "Epoch  64 Batch    1/21   train_loss = 0.210\n",
      "Epoch  64 Batch    6/21   train_loss = 0.189\n",
      "Epoch  64 Batch   11/21   train_loss = 0.179\n",
      "Epoch  64 Batch   16/21   train_loss = 0.196\n",
      "Epoch  65 Batch    0/21   train_loss = 0.197\n",
      "Epoch  65 Batch    5/21   train_loss = 0.194\n",
      "Epoch  65 Batch   10/21   train_loss = 0.189\n",
      "Epoch  65 Batch   15/21   train_loss = 0.168\n",
      "Epoch  65 Batch   20/21   train_loss = 0.175\n",
      "Epoch  66 Batch    4/21   train_loss = 0.185\n",
      "Epoch  66 Batch    9/21   train_loss = 0.171\n",
      "Epoch  66 Batch   14/21   train_loss = 0.186\n",
      "Epoch  66 Batch   19/21   train_loss = 0.172\n",
      "Epoch  67 Batch    3/21   train_loss = 0.168\n",
      "Epoch  67 Batch    8/21   train_loss = 0.165\n",
      "Epoch  67 Batch   13/21   train_loss = 0.174\n",
      "Epoch  67 Batch   18/21   train_loss = 0.150\n",
      "Epoch  68 Batch    2/21   train_loss = 0.140\n",
      "Epoch  68 Batch    7/21   train_loss = 0.150\n",
      "Epoch  68 Batch   12/21   train_loss = 0.152\n",
      "Epoch  68 Batch   17/21   train_loss = 0.140\n",
      "Epoch  69 Batch    1/21   train_loss = 0.159\n",
      "Epoch  69 Batch    6/21   train_loss = 0.136\n",
      "Epoch  69 Batch   11/21   train_loss = 0.129\n",
      "Epoch  69 Batch   16/21   train_loss = 0.151\n",
      "Epoch  70 Batch    0/21   train_loss = 0.144\n",
      "Epoch  70 Batch    5/21   train_loss = 0.139\n",
      "Epoch  70 Batch   10/21   train_loss = 0.130\n",
      "Epoch  70 Batch   15/21   train_loss = 0.132\n",
      "Epoch  70 Batch   20/21   train_loss = 0.129\n",
      "Epoch  71 Batch    4/21   train_loss = 0.132\n",
      "Epoch  71 Batch    9/21   train_loss = 0.129\n",
      "Epoch  71 Batch   14/21   train_loss = 0.133\n",
      "Epoch  71 Batch   19/21   train_loss = 0.125\n",
      "Epoch  72 Batch    3/21   train_loss = 0.128\n",
      "Epoch  72 Batch    8/21   train_loss = 0.124\n",
      "Epoch  72 Batch   13/21   train_loss = 0.132\n",
      "Epoch  72 Batch   18/21   train_loss = 0.110\n",
      "Epoch  73 Batch    2/21   train_loss = 0.110\n",
      "Epoch  73 Batch    7/21   train_loss = 0.110\n",
      "Epoch  73 Batch   12/21   train_loss = 0.118\n",
      "Epoch  73 Batch   17/21   train_loss = 0.111\n",
      "Epoch  74 Batch    1/21   train_loss = 0.125\n",
      "Epoch  74 Batch    6/21   train_loss = 0.107\n",
      "Epoch  74 Batch   11/21   train_loss = 0.100\n",
      "Epoch  74 Batch   16/21   train_loss = 0.123\n",
      "Epoch  75 Batch    0/21   train_loss = 0.114\n",
      "Epoch  75 Batch    5/21   train_loss = 0.115\n",
      "Epoch  75 Batch   10/21   train_loss = 0.105\n",
      "Epoch  75 Batch   15/21   train_loss = 0.106\n",
      "Epoch  75 Batch   20/21   train_loss = 0.100\n",
      "Epoch  76 Batch    4/21   train_loss = 0.105\n",
      "Epoch  76 Batch    9/21   train_loss = 0.113\n",
      "Epoch  76 Batch   14/21   train_loss = 0.102\n",
      "Epoch  76 Batch   19/21   train_loss = 0.104\n",
      "Epoch  77 Batch    3/21   train_loss = 0.095\n",
      "Epoch  77 Batch    8/21   train_loss = 0.102\n",
      "Epoch  77 Batch   13/21   train_loss = 0.105\n",
      "Epoch  77 Batch   18/21   train_loss = 0.089\n",
      "Epoch  78 Batch    2/21   train_loss = 0.091\n",
      "Epoch  78 Batch    7/21   train_loss = 0.087\n",
      "Epoch  78 Batch   12/21   train_loss = 0.103\n",
      "Epoch  78 Batch   17/21   train_loss = 0.088\n",
      "Epoch  79 Batch    1/21   train_loss = 0.108\n",
      "Epoch  79 Batch    6/21   train_loss = 0.091\n",
      "Epoch  79 Batch   11/21   train_loss = 0.085\n",
      "Epoch  79 Batch   16/21   train_loss = 0.106\n",
      "Epoch  80 Batch    0/21   train_loss = 0.100\n",
      "Epoch  80 Batch    5/21   train_loss = 0.098\n",
      "Epoch  80 Batch   10/21   train_loss = 0.095\n",
      "Epoch  80 Batch   15/21   train_loss = 0.097\n",
      "Epoch  80 Batch   20/21   train_loss = 0.093\n",
      "Epoch  81 Batch    4/21   train_loss = 0.095\n",
      "Epoch  81 Batch    9/21   train_loss = 0.094\n",
      "Epoch  81 Batch   14/21   train_loss = 0.098\n",
      "Epoch  81 Batch   19/21   train_loss = 0.089\n",
      "Epoch  82 Batch    3/21   train_loss = 0.091\n",
      "Epoch  82 Batch    8/21   train_loss = 0.092\n",
      "Epoch  82 Batch   13/21   train_loss = 0.096\n",
      "Epoch  82 Batch   18/21   train_loss = 0.084\n",
      "Epoch  83 Batch    2/21   train_loss = 0.085\n",
      "Epoch  83 Batch    7/21   train_loss = 0.083\n",
      "Epoch  83 Batch   12/21   train_loss = 0.088\n",
      "Epoch  83 Batch   17/21   train_loss = 0.089\n",
      "Epoch  84 Batch    1/21   train_loss = 0.096\n",
      "Epoch  84 Batch    6/21   train_loss = 0.084\n",
      "Epoch  84 Batch   11/21   train_loss = 0.079\n",
      "Epoch  84 Batch   16/21   train_loss = 0.094\n",
      "Epoch  85 Batch    0/21   train_loss = 0.090\n",
      "Epoch  85 Batch    5/21   train_loss = 0.085\n",
      "Epoch  85 Batch   10/21   train_loss = 0.089\n",
      "Epoch  85 Batch   15/21   train_loss = 0.085\n",
      "Epoch  85 Batch   20/21   train_loss = 0.085\n",
      "Epoch  86 Batch    4/21   train_loss = 0.084\n",
      "Epoch  86 Batch    9/21   train_loss = 0.084\n",
      "Epoch  86 Batch   14/21   train_loss = 0.082\n",
      "Epoch  86 Batch   19/21   train_loss = 0.076\n"
     ]
    },
    {
     "name": "stdout",
     "output_type": "stream",
     "text": [
      "Epoch  87 Batch    3/21   train_loss = 0.076\n",
      "Epoch  87 Batch    8/21   train_loss = 0.076\n",
      "Epoch  87 Batch   13/21   train_loss = 0.078\n",
      "Epoch  87 Batch   18/21   train_loss = 0.069\n",
      "Epoch  88 Batch    2/21   train_loss = 0.068\n",
      "Epoch  88 Batch    7/21   train_loss = 0.065\n",
      "Epoch  88 Batch   12/21   train_loss = 0.071\n",
      "Epoch  88 Batch   17/21   train_loss = 0.066\n",
      "Epoch  89 Batch    1/21   train_loss = 0.078\n",
      "Epoch  89 Batch    6/21   train_loss = 0.065\n",
      "Epoch  89 Batch   11/21   train_loss = 0.062\n",
      "Epoch  89 Batch   16/21   train_loss = 0.074\n",
      "Epoch  90 Batch    0/21   train_loss = 0.072\n",
      "Epoch  90 Batch    5/21   train_loss = 0.064\n",
      "Epoch  90 Batch   10/21   train_loss = 0.070\n",
      "Epoch  90 Batch   15/21   train_loss = 0.069\n",
      "Epoch  90 Batch   20/21   train_loss = 0.065\n",
      "Epoch  91 Batch    4/21   train_loss = 0.066\n",
      "Epoch  91 Batch    9/21   train_loss = 0.063\n",
      "Epoch  91 Batch   14/21   train_loss = 0.067\n",
      "Epoch  91 Batch   19/21   train_loss = 0.056\n",
      "Epoch  92 Batch    3/21   train_loss = 0.062\n",
      "Epoch  92 Batch    8/21   train_loss = 0.062\n",
      "Epoch  92 Batch   13/21   train_loss = 0.061\n",
      "Epoch  92 Batch   18/21   train_loss = 0.056\n",
      "Epoch  93 Batch    2/21   train_loss = 0.055\n",
      "Epoch  93 Batch    7/21   train_loss = 0.054\n",
      "Epoch  93 Batch   12/21   train_loss = 0.061\n",
      "Epoch  93 Batch   17/21   train_loss = 0.055\n",
      "Epoch  94 Batch    1/21   train_loss = 0.069\n",
      "Epoch  94 Batch    6/21   train_loss = 0.055\n",
      "Epoch  94 Batch   11/21   train_loss = 0.054\n",
      "Epoch  94 Batch   16/21   train_loss = 0.067\n",
      "Epoch  95 Batch    0/21   train_loss = 0.062\n",
      "Epoch  95 Batch    5/21   train_loss = 0.057\n",
      "Epoch  95 Batch   10/21   train_loss = 0.062\n",
      "Epoch  95 Batch   15/21   train_loss = 0.065\n",
      "Epoch  95 Batch   20/21   train_loss = 0.059\n",
      "Epoch  96 Batch    4/21   train_loss = 0.060\n",
      "Epoch  96 Batch    9/21   train_loss = 0.057\n",
      "Epoch  96 Batch   14/21   train_loss = 0.060\n",
      "Epoch  96 Batch   19/21   train_loss = 0.052\n",
      "Epoch  97 Batch    3/21   train_loss = 0.055\n",
      "Epoch  97 Batch    8/21   train_loss = 0.057\n",
      "Epoch  97 Batch   13/21   train_loss = 0.056\n",
      "Epoch  97 Batch   18/21   train_loss = 0.054\n",
      "Epoch  98 Batch    2/21   train_loss = 0.052\n",
      "Epoch  98 Batch    7/21   train_loss = 0.050\n",
      "Epoch  98 Batch   12/21   train_loss = 0.058\n",
      "Epoch  98 Batch   17/21   train_loss = 0.053\n",
      "Epoch  99 Batch    1/21   train_loss = 0.066\n",
      "Epoch  99 Batch    6/21   train_loss = 0.052\n",
      "Epoch  99 Batch   11/21   train_loss = 0.053\n",
      "Epoch  99 Batch   16/21   train_loss = 0.063\n",
      "Model Trained and Saved\n"
     ]
    }
   ],
   "source": [
    "\"\"\"\n",
    "DON'T MODIFY ANYTHING IN THIS CELL\n",
    "\"\"\"\n",
    "batches = get_batches(int_text, batch_size, seq_length)\n",
    "\n",
    "with tf.Session(graph=train_graph) as sess:\n",
    "    sess.run(tf.global_variables_initializer())\n",
    "\n",
    "    for epoch_i in range(num_epochs):\n",
    "        state = sess.run(initial_state, {input_text: batches[0][0]})\n",
    "\n",
    "        for batch_i, (x, y) in enumerate(batches):\n",
    "            feed = {\n",
    "                input_text: x,\n",
    "                targets: y,\n",
    "                initial_state: state,\n",
    "                lr: learning_rate}\n",
    "            train_loss, state, _ = sess.run([cost, final_state, train_op], feed)\n",
    "\n",
    "            # Show every <show_every_n_batches> batches\n",
    "            if (epoch_i * len(batches) + batch_i) % show_every_n_batches == 0:\n",
    "                print('Epoch {:>3} Batch {:>4}/{}   train_loss = {:.3f}'.format(\n",
    "                    epoch_i,\n",
    "                    batch_i,\n",
    "                    len(batches),\n",
    "                    train_loss))\n",
    "\n",
    "    # Save Model\n",
    "    saver = tf.train.Saver()\n",
    "    saver.save(sess, save_dir)\n",
    "    print('Model Trained and Saved')"
   ]
  },
  {
   "cell_type": "markdown",
   "metadata": {},
   "source": [
    "## Save Parameters\n",
    "Save `seq_length` and `save_dir` for generating a new TV script."
   ]
  },
  {
   "cell_type": "code",
   "execution_count": 54,
   "metadata": {
    "collapsed": true
   },
   "outputs": [],
   "source": [
    "\"\"\"\n",
    "DON'T MODIFY ANYTHING IN THIS CELL\n",
    "\"\"\"\n",
    "# Save parameters for checkpoint\n",
    "helper.save_params((seq_length, save_dir))"
   ]
  },
  {
   "cell_type": "markdown",
   "metadata": {},
   "source": [
    "# Checkpoint"
   ]
  },
  {
   "cell_type": "code",
   "execution_count": 55,
   "metadata": {
    "collapsed": true
   },
   "outputs": [],
   "source": [
    "\"\"\"\n",
    "DON'T MODIFY ANYTHING IN THIS CELL\n",
    "\"\"\"\n",
    "import tensorflow as tf\n",
    "import numpy as np\n",
    "import helper\n",
    "import problem_unittests as tests\n",
    "\n",
    "_, vocab_to_int, int_to_vocab, token_dict = helper.load_preprocess()\n",
    "seq_length, load_dir = helper.load_params()"
   ]
  },
  {
   "cell_type": "markdown",
   "metadata": {},
   "source": [
    "## Implement Generate Functions\n",
    "### Get Tensors\n",
    "Get tensors from `loaded_graph` using the function [`get_tensor_by_name()`](https://www.tensorflow.org/api_docs/python/tf/Graph#get_tensor_by_name).  Get the tensors using the following names:\n",
    "- \"input:0\"\n",
    "- \"initial_state:0\"\n",
    "- \"final_state:0\"\n",
    "- \"probs:0\"\n",
    "\n",
    "Return the tensors in the following tuple `(InputTensor, InitialStateTensor, FinalStateTensor, ProbsTensor)`"
   ]
  },
  {
   "cell_type": "code",
   "execution_count": 56,
   "metadata": {},
   "outputs": [
    {
     "name": "stdout",
     "output_type": "stream",
     "text": [
      "Tests Passed\n"
     ]
    }
   ],
   "source": [
    "def get_tensors(loaded_graph):\n",
    "    \"\"\"\n",
    "    Get input, initial state, final state, and probabilities tensor from <loaded_graph>\n",
    "    :param loaded_graph: TensorFlow graph loaded from file\n",
    "    :return: Tuple (InputTensor, InitialStateTensor, FinalStateTensor, ProbsTensor)\n",
    "    \"\"\"\n",
    "    # TODO: Implement Function\n",
    "    return (loaded_graph.get_tensor_by_name(\"input:0\"),\\\n",
    "           loaded_graph.get_tensor_by_name(\"initial_state:0\"),\\\n",
    "           loaded_graph.get_tensor_by_name(\"final_state:0\"),\\\n",
    "           loaded_graph.get_tensor_by_name(\"probs:0\"))\n",
    "\n",
    "\n",
    "\"\"\"\n",
    "DON'T MODIFY ANYTHING IN THIS CELL THAT IS BELOW THIS LINE\n",
    "\"\"\"\n",
    "tests.test_get_tensors(get_tensors)"
   ]
  },
  {
   "cell_type": "markdown",
   "metadata": {},
   "source": [
    "### Choose Word\n",
    "Implement the `pick_word()` function to select the next word using `probabilities`."
   ]
  },
  {
   "cell_type": "code",
   "execution_count": 57,
   "metadata": {},
   "outputs": [
    {
     "name": "stdout",
     "output_type": "stream",
     "text": [
      "Tests Passed\n"
     ]
    }
   ],
   "source": [
    "def pick_word(probabilities, int_to_vocab):\n",
    "    \"\"\"\n",
    "    Pick the next word in the generated text\n",
    "    :param probabilities: Probabilites of the next word\n",
    "    :param int_to_vocab: Dictionary of word ids as the keys and words as the values\n",
    "    :return: String of the predicted word\n",
    "    \"\"\"\n",
    "    # TODO: Implement Function\n",
    "    max_prob_loc = np.argmax(probabilities)\n",
    "    return int_to_vocab[max_prob_loc]\n",
    "\n",
    "\n",
    "\"\"\"\n",
    "DON'T MODIFY ANYTHING IN THIS CELL THAT IS BELOW THIS LINE\n",
    "\"\"\"\n",
    "tests.test_pick_word(pick_word)"
   ]
  },
  {
   "cell_type": "markdown",
   "metadata": {},
   "source": [
    "## Generate TV Script\n",
    "This will generate the TV script for you.  Set `gen_length` to the length of TV script you want to generate."
   ]
  },
  {
   "cell_type": "code",
   "execution_count": 58,
   "metadata": {},
   "outputs": [
    {
     "name": "stdout",
     "output_type": "stream",
     "text": [
      "INFO:tensorflow:Restoring parameters from ./save\n",
      "moe_szyslak: oh, the heat's been on since them bush girls were in here.\n",
      "homer_simpson: all right, all right.(dejected) come on, bart.\n",
      "bart_simpson: i'm cold and scared.\n",
      "homer_simpson: that's my little slugger.\n",
      "bart_simpson: c'mon, dad.\n",
      "moe_szyslak:(to self) santeria, you're the greatest!\n",
      "homer_simpson: barney, didn't you say you were gonna stop drinking?\n",
      "barney_gumble:(breaks down) i know, but your idea's good too.\n",
      "moe_szyslak: thanks, homer. it's this saturday, here.\n",
      "moe_szyslak: now, you know i can't sell you no beer till two milks and they you come home tonight alcohol to go there...(sits up) you guys, you saved me! you do care!\n",
      "homer_simpson: now wait a minute. gotta make sure there's a head on it.\n",
      "moe_szyslak: ohhhh.(begins sobbing)\n",
      "\n",
      "\n",
      "homer_simpson: moe, have you ever felt unattractive?\n",
      "moe_szyslak: mmmm... no.\n",
      "homer_simpson: how about you, barney?\n",
      "barney_gumble: not\n"
     ]
    }
   ],
   "source": [
    "gen_length = 200\n",
    "# homer_simpson, moe_szyslak, or Barney_Gumble\n",
    "prime_word = 'moe_szyslak'\n",
    "\n",
    "\"\"\"\n",
    "DON'T MODIFY ANYTHING IN THIS CELL THAT IS BELOW THIS LINE\n",
    "\"\"\"\n",
    "loaded_graph = tf.Graph()\n",
    "with tf.Session(graph=loaded_graph) as sess:\n",
    "    # Load saved model\n",
    "    loader = tf.train.import_meta_graph(load_dir + '.meta')\n",
    "    loader.restore(sess, load_dir)\n",
    "\n",
    "    # Get Tensors from loaded model\n",
    "    input_text, initial_state, final_state, probs = get_tensors(loaded_graph)\n",
    "\n",
    "    # Sentences generation setup\n",
    "    gen_sentences = [prime_word + ':']\n",
    "    prev_state = sess.run(initial_state, {input_text: np.array([[1]])})\n",
    "\n",
    "    # Generate sentences\n",
    "    for n in range(gen_length):\n",
    "        # Dynamic Input\n",
    "        dyn_input = [[vocab_to_int[word] for word in gen_sentences[-seq_length:]]]\n",
    "        dyn_seq_length = len(dyn_input[0])\n",
    "\n",
    "        # Get Prediction\n",
    "        probabilities, prev_state = sess.run(\n",
    "            [probs, final_state],\n",
    "            {input_text: dyn_input, initial_state: prev_state})\n",
    "        \n",
    "        pred_word = pick_word(probabilities[dyn_seq_length-1], int_to_vocab)\n",
    "\n",
    "        gen_sentences.append(pred_word)\n",
    "    \n",
    "    # Remove tokens\n",
    "    tv_script = ' '.join(gen_sentences)\n",
    "    for key, token in token_dict.items():\n",
    "        ending = ' ' if key in ['\\n', '(', '\"'] else ''\n",
    "        tv_script = tv_script.replace(' ' + token.lower(), key)\n",
    "    tv_script = tv_script.replace('\\n ', '\\n')\n",
    "    tv_script = tv_script.replace('( ', '(')\n",
    "        \n",
    "    print(tv_script)"
   ]
  },
  {
   "cell_type": "markdown",
   "metadata": {},
   "source": [
    "# The TV Script is Nonsensical\n",
    "It's ok if the TV script doesn't make any sense.  We trained on less than a megabyte of text.  In order to get good results, you'll have to use a smaller vocabulary or get more data.  Luckly there's more data!  As we mentioned in the begging of this project, this is a subset of [another dataset](https://www.kaggle.com/wcukierski/the-simpsons-by-the-data).  We didn't have you train on all the data, because that would take too long.  However, you are free to train your neural network on all the data.  After you complete the project, of course.\n",
    "# Submitting This Project\n",
    "When submitting this project, make sure to run all the cells before saving the notebook. Save the notebook file as \"dlnd_tv_script_generation.ipynb\" and save it as a HTML file under \"File\" -> \"Download as\". Include the \"helper.py\" and \"problem_unittests.py\" files in your submission."
   ]
  }
 ],
 "metadata": {
  "kernelspec": {
   "display_name": "Python 3",
   "language": "python",
   "name": "python3"
  },
  "language_info": {
   "codemirror_mode": {
    "name": "ipython",
    "version": 3
   },
   "file_extension": ".py",
   "mimetype": "text/x-python",
   "name": "python",
   "nbconvert_exporter": "python",
   "pygments_lexer": "ipython3",
   "version": "3.6.2"
  }
 },
 "nbformat": 4,
 "nbformat_minor": 1
}
